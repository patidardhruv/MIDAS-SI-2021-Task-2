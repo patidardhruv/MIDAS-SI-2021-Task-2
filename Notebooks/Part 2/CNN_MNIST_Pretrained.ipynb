{
  "nbformat": 4,
  "nbformat_minor": 0,
  "metadata": {
    "colab": {
      "name": "CNN_MNIST_Pretrained.ipynb",
      "provenance": [],
      "collapsed_sections": []
    },
    "kernelspec": {
      "display_name": "Python 3",
      "name": "python3"
    },
    "language_info": {
      "name": "python"
    }
  },
  "cells": [
    {
      "cell_type": "code",
      "metadata": {
        "id": "YeHTSlItoaFn"
      },
      "source": [
        "import numpy as np \n",
        "import pandas as pd \n",
        "import matplotlib.pyplot as plt"
      ],
      "execution_count": null,
      "outputs": []
    },
    {
      "cell_type": "code",
      "metadata": {
        "colab": {
          "base_uri": "https://localhost:8080/"
        },
        "id": "dBDLNi-IyxO9",
        "outputId": "0d42e6d0-fd00-499c-d468-12ea69b6f6af"
      },
      "source": [
        "from google.colab import drive\n",
        "drive.mount('/content/drive')"
      ],
      "execution_count": null,
      "outputs": [
        {
          "output_type": "stream",
          "text": [
            "Mounted at /content/drive\n"
          ],
          "name": "stdout"
        }
      ]
    },
    {
      "cell_type": "code",
      "metadata": {
        "id": "25AQQqD9Rg2e"
      },
      "source": [
        "train = pd.read_csv(\"/content/drive/MyDrive/MIDAS SI Task/preprocessed_final.csv\")"
      ],
      "execution_count": null,
      "outputs": []
    },
    {
      "cell_type": "code",
      "metadata": {
        "id": "msfz_RYwR-Mi"
      },
      "source": [
        "train.iloc[399]['label']\n",
        "train=train.iloc[:399]"
      ],
      "execution_count": null,
      "outputs": []
    },
    {
      "cell_type": "code",
      "metadata": {
        "colab": {
          "base_uri": "https://localhost:8080/"
        },
        "id": "AaTU0a4HpBbU",
        "outputId": "e29444d2-b54e-4de9-b511-c52af2045332"
      },
      "source": [
        "from sklearn.model_selection import train_test_split\n",
        "\n",
        "from keras.models import Sequential\n",
        "from keras.layers import Dense, Dropout, Flatten, Conv2D, MaxPool2D\n",
        "from keras.layers.normalization import BatchNormalization\n",
        "from keras.optimizers import Adam\n",
        "from keras.preprocessing.image import ImageDataGenerator\n",
        "from keras.callbacks import ReduceLROnPlateau, ModelCheckpoint, EarlyStopping\n",
        "\n",
        "import tensorflow as tf\n",
        "tf.device('GPU:0')"
      ],
      "execution_count": null,
      "outputs": [
        {
          "output_type": "execute_result",
          "data": {
            "text/plain": [
              "<tensorflow.python.eager.context._EagerDeviceContext at 0x7fd2a8bcedc0>"
            ]
          },
          "metadata": {
            "tags": []
          },
          "execution_count": 30
        }
      ]
    },
    {
      "cell_type": "code",
      "metadata": {
        "id": "ch5eN9lLjtg0"
      },
      "source": [
        "from mlxtend.data import loadlocal_mnist\n",
        "MNIST_X_test, MNIST_Y_test = loadlocal_mnist(\n",
        "            images_path='/content/drive/MyDrive/MIDAS SI Task/t10k-images.idx3-ubyte', \n",
        "            labels_path='/content/drive/MyDrive/MIDAS SI Task/t10k-labels.idx1-ubyte')\n",
        "MNIST_X_train, MNIST_Y_train = loadlocal_mnist(\n",
        "            images_path='/content/drive/MyDrive/MIDAS SI Task/train-images.idx3-ubyte', \n",
        "            labels_path='/content/drive/MyDrive/MIDAS SI Task/train-labels.idx1-ubyte')"
      ],
      "execution_count": null,
      "outputs": []
    },
    {
      "cell_type": "code",
      "metadata": {
        "id": "sL7kizU5pw03"
      },
      "source": [
        "Y_train = train[\"label\"]\n",
        "X_train = train.drop(labels = [\"label\"],axis = 1)\n",
        "X_train = X_train/255 #Normalise for faster training.\n",
        "X_train = X_train.values.reshape(-1,28,28,1)\n",
        "Y_train = pd.get_dummies(Y_train)"
      ],
      "execution_count": null,
      "outputs": []
    },
    {
      "cell_type": "code",
      "metadata": {
        "id": "gt0i7TkCT8Tk"
      },
      "source": [
        "X_train, X_val, Y_train, Y_val = train_test_split(X_train, Y_train, test_size = 0.1, stratify=Y_train)"
      ],
      "execution_count": null,
      "outputs": []
    },
    {
      "cell_type": "code",
      "metadata": {
        "id": "vNXlSjqUuH4U"
      },
      "source": [
        "model = Sequential()\n",
        "model.add(Conv2D(50, (3, 3), activation='relu', padding='same', input_shape=(28,28,1)))\n",
        "model.add(BatchNormalization())\n",
        "model.add(MaxPool2D(2,2))\n",
        "model.add(Dropout(0.25))\n",
        "model.add(Conv2D(100, (3,3), activation='relu', padding='same'))\n",
        "model.add(Conv2D(200, (3,3), activation='relu', padding='same'))\n",
        "model.add(Conv2D(400,(3,3), activation='relu', padding='same'))\n",
        "model.add(BatchNormalization())\n",
        "model.add(MaxPool2D(2,2))\n",
        "model.add(Conv2D(800, (3,3), activation='relu', padding='same'))\n",
        "model.add(MaxPool2D(2,2))\n",
        "model.add(Dropout(0.25))\n",
        "model.add(Flatten())\n",
        "model.add(Dense(1000, activation='relu'))\n",
        "model.add(Dropout(0.5))\n",
        "model.add(Dense(10, activation='softmax'))"
      ],
      "execution_count": null,
      "outputs": []
    },
    {
      "cell_type": "code",
      "metadata": {
        "id": "hV60CMa6yBs2"
      },
      "source": [
        "model.compile(\n",
        "    optimizer = Adam(learning_rate=0.0002, beta_1=0.9), loss = 'categorical_crossentropy', metrics=(['accuracy'])\n",
        ")\n",
        "\n",
        "early_stopping = EarlyStopping(\n",
        "    monitor = 'val_loss', patience = 10, restore_best_weights = True\n",
        ")\n",
        "\n",
        "learning_rate_reduction = ReduceLROnPlateau(monitor='val_accuracy', \n",
        "                                            patience=3, \n",
        "                                            verbose=1, \n",
        "                                            factor=0.5, \n",
        "                                            min_lr=0.00001)\n",
        "\n",
        "model_checkpoint = ModelCheckpoint(\n",
        "    'MNIST_Dataset1.hdf5', monitor = 'val_loss', save_best_only=True\n",
        ")"
      ],
      "execution_count": null,
      "outputs": []
    },
    {
      "cell_type": "code",
      "metadata": {
        "id": "jr3AtmJTzmvy"
      },
      "source": [
        "datagen = ImageDataGenerator(\n",
        "        featurewise_center=False,  # set input mean to 0 over the dataset\n",
        "        samplewise_center=False,  # set each sample mean to 0\n",
        "        featurewise_std_normalization=False,  # divide inputs by std of the dataset\n",
        "        samplewise_std_normalization=False,  # divide each input by its std\n",
        "        zca_whitening=False,  # apply ZCA whitening\n",
        "        rotation_range=5,  # randomly rotate images in the range (degrees, 0 to 180)\n",
        "        zoom_range = 0.1, # Randomly zoom image \n",
        "        width_shift_range=0.1,  # randomly shift images horizontally (fraction of total width)\n",
        "        height_shift_range=0.1,  # randomly shift images vertically (fraction of total height)\n",
        "        horizontal_flip=False,  # randomly flip images\n",
        "        vertical_flip=False)  # randomly flip images"
      ],
      "execution_count": null,
      "outputs": []
    },
    {
      "cell_type": "code",
      "metadata": {
        "id": "vNbByp5m2VF1"
      },
      "source": [
        "epochs = 50\n",
        "batch_size=100"
      ],
      "execution_count": null,
      "outputs": []
    },
    {
      "cell_type": "code",
      "metadata": {
        "colab": {
          "base_uri": "https://localhost:8080/"
        },
        "id": "8qCoKq6L0HEN",
        "outputId": "08f90e2b-fe9e-47bf-c1ec-3fca9651fcd7"
      },
      "source": [
        "history = model.fit(datagen.flow(X_train,Y_train, batch_size=batch_size),\n",
        "                              epochs = epochs, validation_data = (X_val,Y_val),\n",
        "                              verbose = 2, steps_per_epoch=X_train.shape[0] // batch_size\n",
        "                              , callbacks=[learning_rate_reduction,early_stopping, model_checkpoint])"
      ],
      "execution_count": null,
      "outputs": [
        {
          "output_type": "stream",
          "text": [
            "Epoch 1/50\n",
            "2/2 - 8s - loss: 5.8122 - accuracy: 0.1060 - val_loss: 2.2957 - val_accuracy: 0.1786\n",
            "Epoch 2/50\n",
            "2/2 - 7s - loss: 6.7319 - accuracy: 0.1656 - val_loss: 2.2884 - val_accuracy: 0.2857\n",
            "Epoch 3/50\n",
            "2/2 - 7s - loss: 4.7721 - accuracy: 0.2914 - val_loss: 2.2830 - val_accuracy: 0.3214\n",
            "Epoch 4/50\n",
            "2/2 - 7s - loss: 2.6164 - accuracy: 0.3179 - val_loss: 2.2820 - val_accuracy: 0.2500\n",
            "Epoch 5/50\n",
            "2/2 - 7s - loss: 2.0673 - accuracy: 0.2980 - val_loss: 2.2785 - val_accuracy: 0.3214\n",
            "Epoch 6/50\n",
            "2/2 - 9s - loss: 1.7941 - accuracy: 0.4400 - val_loss: 2.2695 - val_accuracy: 0.4643\n",
            "Epoch 7/50\n",
            "2/2 - 9s - loss: 1.4247 - accuracy: 0.5200 - val_loss: 2.2561 - val_accuracy: 0.7143\n",
            "Epoch 8/50\n",
            "2/2 - 7s - loss: 1.3255 - accuracy: 0.5298 - val_loss: 2.2405 - val_accuracy: 0.5714\n",
            "Epoch 9/50\n",
            "2/2 - 7s - loss: 1.3108 - accuracy: 0.5828 - val_loss: 2.2237 - val_accuracy: 0.5000\n",
            "Epoch 10/50\n",
            "2/2 - 7s - loss: 1.1427 - accuracy: 0.6159 - val_loss: 2.2079 - val_accuracy: 0.4286\n",
            "\n",
            "Epoch 00010: ReduceLROnPlateau reducing learning rate to 9.999999747378752e-05.\n",
            "Epoch 11/50\n",
            "2/2 - 7s - loss: 0.9272 - accuracy: 0.6689 - val_loss: 2.1982 - val_accuracy: 0.3214\n",
            "Epoch 12/50\n",
            "2/2 - 7s - loss: 0.9813 - accuracy: 0.6755 - val_loss: 2.1906 - val_accuracy: 0.2143\n",
            "Epoch 13/50\n",
            "2/2 - 9s - loss: 0.9223 - accuracy: 0.6950 - val_loss: 2.1855 - val_accuracy: 0.1786\n",
            "\n",
            "Epoch 00013: ReduceLROnPlateau reducing learning rate to 4.999999873689376e-05.\n",
            "Epoch 14/50\n",
            "2/2 - 7s - loss: 0.8597 - accuracy: 0.7285 - val_loss: 2.1859 - val_accuracy: 0.1071\n",
            "Epoch 15/50\n",
            "2/2 - 7s - loss: 0.8865 - accuracy: 0.7152 - val_loss: 2.1891 - val_accuracy: 0.1071\n",
            "Epoch 16/50\n",
            "2/2 - 7s - loss: 0.8384 - accuracy: 0.7020 - val_loss: 2.1951 - val_accuracy: 0.1071\n",
            "\n",
            "Epoch 00016: ReduceLROnPlateau reducing learning rate to 2.499999936844688e-05.\n",
            "Epoch 17/50\n",
            "2/2 - 7s - loss: 0.7672 - accuracy: 0.7682 - val_loss: 2.2048 - val_accuracy: 0.1071\n",
            "Epoch 18/50\n",
            "2/2 - 9s - loss: 0.7194 - accuracy: 0.7700 - val_loss: 2.2167 - val_accuracy: 0.1071\n",
            "Epoch 19/50\n",
            "2/2 - 7s - loss: 0.8431 - accuracy: 0.7351 - val_loss: 2.2310 - val_accuracy: 0.1071\n",
            "\n",
            "Epoch 00019: ReduceLROnPlateau reducing learning rate to 1.249999968422344e-05.\n",
            "Epoch 20/50\n",
            "2/2 - 7s - loss: 0.8651 - accuracy: 0.7152 - val_loss: 2.2474 - val_accuracy: 0.1071\n",
            "Epoch 21/50\n",
            "2/2 - 7s - loss: 0.7379 - accuracy: 0.7682 - val_loss: 2.2661 - val_accuracy: 0.1071\n",
            "Epoch 22/50\n",
            "2/2 - 9s - loss: 0.7973 - accuracy: 0.7350 - val_loss: 2.2866 - val_accuracy: 0.1071\n",
            "\n",
            "Epoch 00022: ReduceLROnPlateau reducing learning rate to 1e-05.\n",
            "Epoch 23/50\n",
            "2/2 - 7s - loss: 0.7966 - accuracy: 0.6954 - val_loss: 2.3095 - val_accuracy: 0.1071\n"
          ],
          "name": "stdout"
        }
      ]
    },
    {
      "cell_type": "code",
      "metadata": {
        "id": "-PQOydeSF95u"
      },
      "source": [
        "def plot_history(history):\n",
        "    loss_list = [s for s in history.history.keys() if 'loss' in s and 'val' not in s]\n",
        "    val_loss_list = [s for s in history.history.keys() if 'loss' in s and 'val' in s]\n",
        "    acc_list = [s for s in history.history.keys() if 'acc' in s and 'val' not in s]\n",
        "    val_acc_list = [s for s in history.history.keys() if 'acc' in s and 'val' in s]\n",
        "    \n",
        "    if len(loss_list) == 0:\n",
        "        print('Loss is missing in history')\n",
        "        return \n",
        "    \n",
        "    ## As loss always exists\n",
        "    epochs = range(1,len(history.history[loss_list[0]]) + 1)\n",
        "    \n",
        "    ## Loss\n",
        "    plt.figure(1)\n",
        "    plt.figsize=(10, 10)\n",
        "    for l in loss_list:\n",
        "        plt.plot(epochs, history.history[l], 'b', label='Training loss (' + str(str(format(history.history[l][-1],'.5f'))+')'))\n",
        "    for l in val_loss_list:\n",
        "        plt.plot(epochs, history.history[l], 'g', label='Validation loss (' + str(str(format(history.history[l][-1],'.5f'))+')'))\n",
        "    \n",
        "    plt.title('Loss')\n",
        "    plt.xlabel('Epochs')\n",
        "    plt.ylabel('Loss')\n",
        "    plt.legend()\n",
        "    \n",
        "    ## Accuracy\n",
        "    plt.figure(2)\n",
        "    plt.figsize=(10, 10)\n",
        "    for l in acc_list:\n",
        "        plt.plot(epochs, history.history[l], 'b', label='Training accuracy (' + str(format(history.history[l][-1],'.5f'))+')')\n",
        "    for l in val_acc_list:    \n",
        "        plt.plot(epochs, history.history[l], 'g', label='Validation accuracy (' + str(format(history.history[l][-1],'.5f'))+')')\n",
        "\n",
        "    plt.title('Accuracy')\n",
        "    plt.xlabel('Epochs')\n",
        "    plt.ylabel('Accuracy')\n",
        "    plt.legend()\n",
        "    plt.show()"
      ],
      "execution_count": null,
      "outputs": []
    },
    {
      "cell_type": "code",
      "metadata": {
        "colab": {
          "base_uri": "https://localhost:8080/",
          "height": 573
        },
        "id": "5Q8QyldzHVSh",
        "outputId": "6c11d438-5a3b-466a-a566-9f488d8a3085"
      },
      "source": [
        "plot_history(history)"
      ],
      "execution_count": null,
      "outputs": [
        {
          "output_type": "display_data",
          "data": {
            "image/png": "[encoded data removed]",
            "text/plain": [
              "<Figure size 432x288 with 1 Axes>"
            ]
          },
          "metadata": {
            "tags": []
          }
        },
        {
          "output_type": "display_data",
          "data": {
            "image/png": "[encoded data removed]",
            "text/plain": [
              "<Figure size 432x288 with 1 Axes>"
            ]
          },
          "metadata": {
            "tags": []
          }
        }
      ]
    },
    {
      "cell_type": "code",
      "metadata": {
        "colab": {
          "background_save": true
        },
        "id": "nGbSeFArbLwG"
      },
      "source": [
        "from keras.models import load_model\n",
        "model = load_model('MNIST_Dataset1.hdf5')"
      ],
      "execution_count": null,
      "outputs": []
    },
    {
      "cell_type": "code",
      "metadata": {
        "colab": {
          "background_save": true
        },
        "id": "OdCYxy2Jbfwk",
        "outputId": "21c20c37-2c49-4272-b36b-5f66fb91222d"
      },
      "source": [
        "model.summary()"
      ],
      "execution_count": null,
      "outputs": [
        {
          "output_type": "stream",
          "text": [
            "Model: \"sequential_6\"\n",
            "_________________________________________________________________\n",
            "Layer (type)                 Output Shape              Param #   \n",
            "=================================================================\n",
            "conv2d_30 (Conv2D)           (None, 28, 28, 50)        500       \n",
            "_________________________________________________________________\n",
            "batch_normalization_12 (Batc (None, 28, 28, 50)        200       \n",
            "_________________________________________________________________\n",
            "max_pooling2d_18 (MaxPooling (None, 14, 14, 50)        0         \n",
            "_________________________________________________________________\n",
            "dropout_18 (Dropout)         (None, 14, 14, 50)        0         \n",
            "_________________________________________________________________\n",
            "conv2d_31 (Conv2D)           (None, 14, 14, 100)       45100     \n",
            "_________________________________________________________________\n",
            "conv2d_32 (Conv2D)           (None, 14, 14, 200)       180200    \n",
            "_________________________________________________________________\n",
            "conv2d_33 (Conv2D)           (None, 14, 14, 400)       720400    \n",
            "_________________________________________________________________\n",
            "batch_normalization_13 (Batc (None, 14, 14, 400)       1600      \n",
            "_________________________________________________________________\n",
            "max_pooling2d_19 (MaxPooling (None, 7, 7, 400)         0         \n",
            "_________________________________________________________________\n",
            "conv2d_34 (Conv2D)           (None, 7, 7, 800)         2880800   \n",
            "_________________________________________________________________\n",
            "max_pooling2d_20 (MaxPooling (None, 3, 3, 800)         0         \n",
            "_________________________________________________________________\n",
            "dropout_19 (Dropout)         (None, 3, 3, 800)         0         \n",
            "_________________________________________________________________\n",
            "flatten_6 (Flatten)          (None, 7200)              0         \n",
            "_________________________________________________________________\n",
            "dense_12 (Dense)             (None, 1000)              7201000   \n",
            "_________________________________________________________________\n",
            "dropout_20 (Dropout)         (None, 1000)              0         \n",
            "_________________________________________________________________\n",
            "dense_13 (Dense)             (None, 10)                10010     \n",
            "=================================================================\n",
            "Total params: 11,039,810\n",
            "Trainable params: 11,038,910\n",
            "Non-trainable params: 900\n",
            "_________________________________________________________________\n"
          ],
          "name": "stdout"
        }
      ]
    },
    {
      "cell_type": "code",
      "metadata": {
        "colab": {
          "background_save": true
        },
        "id": "qfhtVSA-cKCU"
      },
      "source": [
        "from mlxtend.data import loadlocal_mnist\n",
        "X_test, Y_test = loadlocal_mnist(\n",
        "            images_path='/content/drive/MyDrive/MIDAS SI Task/t10k-images.idx3-ubyte', \n",
        "            labels_path='/content/drive/MyDrive/MIDAS SI Task/t10k-labels.idx1-ubyte')\n",
        "X_train, Y_train = loadlocal_mnist(\n",
        "            images_path='/content/drive/MyDrive/MIDAS SI Task/train-images.idx3-ubyte', \n",
        "            labels_path='/content/drive/MyDrive/MIDAS SI Task/train-labels.idx1-ubyte')"
      ],
      "execution_count": null,
      "outputs": []
    },
    {
      "cell_type": "code",
      "metadata": {
        "colab": {
          "background_save": true
        },
        "id": "6iWtT5FAcKCV"
      },
      "source": [
        "X_train = X_train/255 #Normalise for faster training.\n",
        "X_test = X_test/255\n",
        "X_train = X_train.reshape(-1,28,28,1)\n",
        "X_test = X_test.reshape(-1,28,28,1)"
      ],
      "execution_count": null,
      "outputs": []
    },
    {
      "cell_type": "code",
      "metadata": {
        "colab": {
          "background_save": true
        },
        "id": "5OPpfS0lp6cX"
      },
      "source": [
        "Y_train = pd.get_dummies(Y_train)\n",
        "Y_test = pd.get_dummies(Y_test)"
      ],
      "execution_count": null,
      "outputs": []
    },
    {
      "cell_type": "code",
      "metadata": {
        "colab": {
          "background_save": true
        },
        "id": "dcTwuEhrb09Z"
      },
      "source": [
        "model.compile(\n",
        "    optimizer = 'adam', loss = 'categorical_crossentropy', metrics=(['accuracy'])\n",
        ")\n",
        "\n",
        "early_stopping = EarlyStopping(\n",
        "    monitor = 'val_loss', patience = 5, restore_best_weights = True\n",
        ")\n",
        "\n",
        "learning_rate_reduction = ReduceLROnPlateau(monitor='val_accuracy', \n",
        "                                            patience=3, \n",
        "                                            verbose=1, \n",
        "                                            factor=0.5, \n",
        "                                            min_lr=0.00001)\n",
        "\n",
        "model_checkpoint = ModelCheckpoint(\n",
        "    'MNIST_Dataset1_Pretrained.hdf5', monitor = 'val_loss', save_best_only=True\n",
        ")"
      ],
      "execution_count": null,
      "outputs": []
    },
    {
      "cell_type": "code",
      "metadata": {
        "colab": {
          "background_save": true
        },
        "id": "x2UXYzp-bhC3"
      },
      "source": [
        "epochs = 3\n",
        "batch_size=100"
      ],
      "execution_count": null,
      "outputs": []
    },
    {
      "cell_type": "code",
      "metadata": {
        "colab": {
          "background_save": true,
          "base_uri": "https://localhost:8080/"
        },
        "id": "ARp1RbM1b09b",
        "outputId": "046699bd-08ac-44bb-f48c-68fb6e874acf"
      },
      "source": [
        "history = model.fit(datagen.flow(X_train,Y_train, batch_size=batch_size),\n",
        "                              epochs = epochs, validation_data = (X_test,Y_test),\n",
        "                              verbose = 2, steps_per_epoch=X_train.shape[0] // batch_size\n",
        "                              , callbacks=[learning_rate_reduction,early_stopping, model_checkpoint])"
      ],
      "execution_count": null,
      "outputs": [
        {
          "output_type": "stream",
          "text": [
            "Epoch 1/3\n",
            "600/600 - 2722s - loss: 0.2609 - accuracy: 0.9270 - val_loss: 0.1044 - val_accuracy: 0.9733\n",
            "Epoch 2/3\n",
            "600/600 - 2726s - loss: 0.0994 - accuracy: 0.9721 - val_loss: 0.0482 - val_accuracy: 0.9848\n",
            "Epoch 3/3\n",
            "600/600 - 2704s - loss: 0.0815 - accuracy: 0.9780 - val_loss: 0.0447 - val_accuracy: 0.9871\n"
          ],
          "name": "stdout"
        }
      ]
    },
    {
      "cell_type": "code",
      "metadata": {
        "id": "tnn3b5SReH_T"
      },
      "source": [
        "def plot_history(history):\n",
        "    loss_list = [s for s in history.history.keys() if 'loss' in s and 'val' not in s]\n",
        "    val_loss_list = [s for s in history.history.keys() if 'loss' in s and 'val' in s]\n",
        "    acc_list = [s for s in history.history.keys() if 'acc' in s and 'val' not in s]\n",
        "    val_acc_list = [s for s in history.history.keys() if 'acc' in s and 'val' in s]\n",
        "    \n",
        "    if len(loss_list) == 0:\n",
        "        print('Loss is missing in history')\n",
        "        return \n",
        "    \n",
        "    ## As loss always exists\n",
        "    epochs = range(1,len(history.history[loss_list[0]]) + 1)\n",
        "    \n",
        "    ## Loss\n",
        "    plt.figure(1)\n",
        "    plt.figsize=(10, 10)\n",
        "    for l in loss_list:\n",
        "        plt.plot(epochs, history.history[l], 'b', label='Training loss (' + str(str(format(history.history[l][-1],'.5f'))+')'))\n",
        "    for l in val_loss_list:\n",
        "        plt.plot(epochs, history.history[l], 'g', label='Validation loss (' + str(str(format(history.history[l][-1],'.5f'))+')'))\n",
        "    \n",
        "    plt.title('Loss')\n",
        "    plt.xlabel('Epochs')\n",
        "    plt.ylabel('Loss')\n",
        "    plt.legend()\n",
        "    \n",
        "    ## Accuracy\n",
        "    plt.figure(2)\n",
        "    plt.figsize=(10, 10)\n",
        "    for l in acc_list:\n",
        "        plt.plot(epochs, history.history[l], 'b', label='Training accuracy (' + str(format(history.history[l][-1],'.5f'))+')')\n",
        "    for l in val_acc_list:    \n",
        "        plt.plot(epochs, history.history[l], 'g', label='Validation accuracy (' + str(format(history.history[l][-1],'.5f'))+')')\n",
        "\n",
        "    plt.title('Accuracy')\n",
        "    plt.xlabel('Epochs')\n",
        "    plt.ylabel('Accuracy')\n",
        "    plt.legend()\n",
        "    plt.show()"
      ],
      "execution_count": null,
      "outputs": []
    },
    {
      "cell_type": "code",
      "metadata": {
        "colab": {
          "base_uri": "https://localhost:8080/",
          "height": 573
        },
        "id": "C3Rxlron86m-",
        "outputId": "1c3b715f-b98a-442e-d46c-e201bed69a59"
      },
      "source": [
        "plot_history(history)"
      ],
      "execution_count": null,
      "outputs": [
        {
          "output_type": "display_data",
          "data": {
            "image/png": "[encoded data removed]",
            "text/plain": [
              "<Figure size 432x288 with 1 Axes>"
            ]
          },
          "metadata": {
            "tags": []
          }
        },
        {
          "output_type": "display_data",
          "data": {
            "image/png": "[encoded data removed]",
            "text/plain": [
              "<Figure size 432x288 with 1 Axes>"
            ]
          },
          "metadata": {
            "tags": []
          }
        }
      ]
    },
    {
      "cell_type": "code",
      "metadata": {
        "id": "U-7YRedj89bh"
      },
      "source": [
        ""
      ],
      "execution_count": null,
      "outputs": []
    }
  ]
}