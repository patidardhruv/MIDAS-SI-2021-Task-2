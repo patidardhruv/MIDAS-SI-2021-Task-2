{
  "nbformat": 4,
  "nbformat_minor": 0,
  "metadata": {
    "colab": {
      "name": "Untitled1.ipynb",
      "provenance": []
    },
    "kernelspec": {
      "name": "python3",
      "display_name": "Python 3"
    },
    "language_info": {
      "name": "python"
    }
  },
  "cells": [
    {
      "cell_type": "code",
      "metadata": {
        "id": "YeHTSlItoaFn"
      },
      "source": [
        "import numpy as np \n",
        "import pandas as pd \n",
        "import matplotlib.pyplot as plt"
      ],
      "execution_count": 42,
      "outputs": []
    },
    {
      "cell_type": "code",
      "metadata": {
        "id": "25AQQqD9Rg2e"
      },
      "source": [
        "train = pd.read_csv(\"/content/drive/MyDrive/MIDAS SI Task/preprocessed_final.csv\")"
      ],
      "execution_count": 43,
      "outputs": []
    },
    {
      "cell_type": "code",
      "metadata": {
        "id": "msfz_RYwR-Mi"
      },
      "source": [
        "train.iloc[399]['label']\n",
        "train=train.iloc[:399]"
      ],
      "execution_count": 44,
      "outputs": []
    },
    {
      "cell_type": "code",
      "metadata": {
        "colab": {
          "base_uri": "https://localhost:8080/"
        },
        "id": "AaTU0a4HpBbU",
        "outputId": "53c5c4bc-ec46-44a9-e677-842f833f7065"
      },
      "source": [
        "from sklearn.model_selection import train_test_split\n",
        "\n",
        "from keras.models import Sequential\n",
        "from keras.layers import Dense, Dropout, Flatten, Conv2D, MaxPool2D\n",
        "from keras.layers.normalization import BatchNormalization\n",
        "from keras.optimizers import Adam\n",
        "from keras.preprocessing.image import ImageDataGenerator\n",
        "from keras.callbacks import ReduceLROnPlateau, ModelCheckpoint, EarlyStopping\n",
        "\n",
        "import tensorflow as tf\n",
        "tf.device('GPU:0')"
      ],
      "execution_count": 45,
      "outputs": [
        {
          "output_type": "execute_result",
          "data": {
            "text/plain": [
              "<tensorflow.python.eager.context._EagerDeviceContext at 0x7f99030f9be0>"
            ]
          },
          "metadata": {
            "tags": []
          },
          "execution_count": 45
        }
      ]
    },
    {
      "cell_type": "code",
      "metadata": {
        "id": "ch5eN9lLjtg0"
      },
      "source": [
        "from mlxtend.data import loadlocal_mnist\n",
        "MNIST_X_test, MNIST_Y_test = loadlocal_mnist(\n",
        "            images_path='/content/drive/MyDrive/MIDAS SI Task/t10k-images.idx3-ubyte', \n",
        "            labels_path='/content/drive/MyDrive/MIDAS SI Task/t10k-labels.idx1-ubyte')\n",
        "MNIST_X_train, MNIST_Y_train = loadlocal_mnist(\n",
        "            images_path='/content/drive/MyDrive/MIDAS SI Task/train-images.idx3-ubyte', \n",
        "            labels_path='/content/drive/MyDrive/MIDAS SI Task/train-labels.idx1-ubyte')"
      ],
      "execution_count": 46,
      "outputs": []
    },
    {
      "cell_type": "code",
      "metadata": {
        "id": "sL7kizU5pw03"
      },
      "source": [
        "Y_train = train[\"label\"]\n",
        "X_train = train.drop(labels = [\"label\"],axis = 1)\n",
        "X_train = X_train/255 #Normalise for faster training.\n",
        "X_train = X_train.values.reshape(-1,28,28,1)\n",
        "Y_train = pd.get_dummies(Y_train)"
      ],
      "execution_count": 47,
      "outputs": []
    },
    {
      "cell_type": "code",
      "metadata": {
        "id": "gt0i7TkCT8Tk"
      },
      "source": [
        "X_train, X_val, Y_train, Y_val = train_test_split(X_train, Y_train, test_size = 0.1, stratify=Y_train)"
      ],
      "execution_count": 48,
      "outputs": []
    },
    {
      "cell_type": "code",
      "metadata": {
        "id": "vNXlSjqUuH4U"
      },
      "source": [
        "model = Sequential()\n",
        "model.add(Conv2D(50, (3, 3), activation='relu', padding='same', input_shape=(28,28,1)))\n",
        "model.add(BatchNormalization())\n",
        "model.add(MaxPool2D(2,2))\n",
        "model.add(Dropout(0.25))\n",
        "model.add(Conv2D(100, (3,3), activation='relu', padding='same'))\n",
        "model.add(Conv2D(200, (3,3), activation='relu', padding='same'))\n",
        "model.add(Conv2D(400,(3,3), activation='relu', padding='same'))\n",
        "model.add(BatchNormalization())\n",
        "model.add(MaxPool2D(2,2))\n",
        "model.add(Conv2D(800, (3,3), activation='relu', padding='same'))\n",
        "model.add(MaxPool2D(2,2))\n",
        "model.add(Dropout(0.25))\n",
        "model.add(Flatten())\n",
        "model.add(Dense(1000, activation='relu'))\n",
        "model.add(Dropout(0.5))\n",
        "model.add(Dense(10, activation='softmax'))"
      ],
      "execution_count": 49,
      "outputs": []
    },
    {
      "cell_type": "code",
      "metadata": {
        "id": "hV60CMa6yBs2"
      },
      "source": [
        "model.compile(\n",
        "    optimizer = 'adam', loss = 'categorical_crossentropy', metrics=(['accuracy'])\n",
        ")\n",
        "\n",
        "early_stopping = EarlyStopping(\n",
        "    monitor = 'val_loss', patience = 10, restore_best_weights = True\n",
        ")\n",
        "\n",
        "learning_rate_reduction = ReduceLROnPlateau(monitor='val_accuracy', \n",
        "                                            patience=3, \n",
        "                                            verbose=1, \n",
        "                                            factor=0.5, \n",
        "                                            min_lr=0.00001)\n",
        "\n",
        "model_checkpoint = ModelCheckpoint(\n",
        "    'MNIST_Dataset1.hdf5', monitor = 'val_loss', save_best_only=True\n",
        ")"
      ],
      "execution_count": 50,
      "outputs": []
    },
    {
      "cell_type": "code",
      "metadata": {
        "id": "jr3AtmJTzmvy"
      },
      "source": [
        "datagen = ImageDataGenerator(\n",
        "        featurewise_center=False,  # set input mean to 0 over the dataset\n",
        "        samplewise_center=False,  # set each sample mean to 0\n",
        "        featurewise_std_normalization=False,  # divide inputs by std of the dataset\n",
        "        samplewise_std_normalization=False,  # divide each input by its std\n",
        "        zca_whitening=False,  # apply ZCA whitening\n",
        "        rotation_range=5,  # randomly rotate images in the range (degrees, 0 to 180)\n",
        "        zoom_range = 0.1, # Randomly zoom image \n",
        "        width_shift_range=0.1,  # randomly shift images horizontally (fraction of total width)\n",
        "        height_shift_range=0.1,  # randomly shift images vertically (fraction of total height)\n",
        "        horizontal_flip=False,  # randomly flip images\n",
        "        vertical_flip=False)  # randomly flip images"
      ],
      "execution_count": 51,
      "outputs": []
    },
    {
      "cell_type": "code",
      "metadata": {
        "id": "vNbByp5m2VF1"
      },
      "source": [
        "epochs = 50\n",
        "batch_size=100"
      ],
      "execution_count": 54,
      "outputs": []
    },
    {
      "cell_type": "code",
      "metadata": {
        "colab": {
          "base_uri": "https://localhost:8080/"
        },
        "id": "8qCoKq6L0HEN",
        "outputId": "0ecbb36a-ba46-4fbf-bae5-397ad1803e5a"
      },
      "source": [
        "history = model.fit(datagen.flow(X_train,Y_train, batch_size=batch_size),\n",
        "                              epochs = epochs, validation_data = (X_val,Y_val),\n",
        "                              verbose = 2, steps_per_epoch=X_train.shape[0] // batch_size\n",
        "                              , callbacks=[learning_rate_reduction,early_stopping, model_checkpoint])"
      ],
      "execution_count": 55,
      "outputs": [
        {
          "output_type": "stream",
          "text": [
            "Epoch 1/50\n",
            "3/3 - 13s - loss: 22.6356 - accuracy: 0.0888 - val_loss: 2.4385 - val_accuracy: 0.1750\n",
            "Epoch 2/50\n",
            "3/3 - 14s - loss: 7.4559 - accuracy: 0.1233 - val_loss: 2.3003 - val_accuracy: 0.2250\n",
            "Epoch 3/50\n",
            "3/3 - 12s - loss: 2.7322 - accuracy: 0.1236 - val_loss: 2.3196 - val_accuracy: 0.1000\n",
            "Epoch 4/50\n",
            "3/3 - 14s - loss: 2.3428 - accuracy: 0.1333 - val_loss: 2.6196 - val_accuracy: 0.1250\n",
            "Epoch 5/50\n",
            "3/3 - 12s - loss: 2.1915 - accuracy: 0.2355 - val_loss: 3.9639 - val_accuracy: 0.1750\n",
            "\n",
            "Epoch 00005: ReduceLROnPlateau reducing learning rate to 0.0005000000237487257.\n",
            "Epoch 6/50\n",
            "3/3 - 12s - loss: 2.0089 - accuracy: 0.3127 - val_loss: 8.1553 - val_accuracy: 0.1750\n",
            "Epoch 7/50\n",
            "3/3 - 14s - loss: 1.8592 - accuracy: 0.3833 - val_loss: 16.0800 - val_accuracy: 0.1250\n",
            "Epoch 8/50\n",
            "3/3 - 12s - loss: 1.6270 - accuracy: 0.4517 - val_loss: 28.9441 - val_accuracy: 0.1000\n",
            "\n",
            "Epoch 00008: ReduceLROnPlateau reducing learning rate to 0.0002500000118743628.\n",
            "Epoch 9/50\n",
            "3/3 - 12s - loss: 1.4446 - accuracy: 0.5212 - val_loss: 48.0346 - val_accuracy: 0.1000\n",
            "Epoch 10/50\n",
            "3/3 - 12s - loss: 1.3961 - accuracy: 0.5714 - val_loss: 71.2428 - val_accuracy: 0.1000\n",
            "Epoch 11/50\n",
            "3/3 - 12s - loss: 1.4124 - accuracy: 0.5328 - val_loss: 98.5835 - val_accuracy: 0.1000\n",
            "\n",
            "Epoch 00011: ReduceLROnPlateau reducing learning rate to 0.0001250000059371814.\n",
            "Epoch 12/50\n",
            "3/3 - 12s - loss: 1.2457 - accuracy: 0.5598 - val_loss: 125.1372 - val_accuracy: 0.1000\n"
          ],
          "name": "stdout"
        }
      ]
    },
    {
      "cell_type": "code",
      "metadata": {
        "id": "-PQOydeSF95u"
      },
      "source": [
        "def plot_history(history):\n",
        "    loss_list = [s for s in history.history.keys() if 'loss' in s and 'val' not in s]\n",
        "    val_loss_list = [s for s in history.history.keys() if 'loss' in s and 'val' in s]\n",
        "    acc_list = [s for s in history.history.keys() if 'acc' in s and 'val' not in s]\n",
        "    val_acc_list = [s for s in history.history.keys() if 'acc' in s and 'val' in s]\n",
        "    \n",
        "    if len(loss_list) == 0:\n",
        "        print('Loss is missing in history')\n",
        "        return \n",
        "    \n",
        "    ## As loss always exists\n",
        "    epochs = range(1,len(history.history[loss_list[0]]) + 1)\n",
        "    \n",
        "    ## Loss\n",
        "    plt.figure(1)\n",
        "    plt.figsize=(10, 10)\n",
        "    for l in loss_list:\n",
        "        plt.plot(epochs, history.history[l], 'b', label='Training loss (' + str(str(format(history.history[l][-1],'.5f'))+')'))\n",
        "    \n",
        "    plt.title('Loss')\n",
        "    plt.xlabel('Epochs')\n",
        "    plt.ylabel('Loss')\n",
        "    plt.legend()\n",
        "    \n",
        "    ## Accuracy\n",
        "    plt.figure(2)\n",
        "    plt.figsize=(10, 10)\n",
        "    for l in acc_list:\n",
        "        plt.plot(epochs, history.history[l], 'b', label='Training accuracy (' + str(format(history.history[l][-1],'.5f'))+')')\n",
        "\n",
        "    plt.title('Accuracy')\n",
        "    plt.xlabel('Epochs')\n",
        "    plt.ylabel('Accuracy')\n",
        "    plt.legend()\n",
        "    plt.show()"
      ],
      "execution_count": null,
      "outputs": []
    },
    {
      "cell_type": "code",
      "metadata": {
        "colab": {
          "base_uri": "https://localhost:8080/",
          "height": 573
        },
        "id": "5Q8QyldzHVSh",
        "outputId": "a1c85d68-7ef7-49ea-9663-7cc2d29fe25d"
      },
      "source": [
        "plot_history(history)"
      ],
      "execution_count": null,
      "outputs": [
        {
          "output_type": "display_data",
          "data": {
            "image/png": "[encoded data removed]",
            "text/plain": [
              "<Figure size 432x288 with 1 Axes>"
            ]
          },
          "metadata": {
            "tags": []
          }
        },
        {
          "output_type": "display_data",
          "data": {
            "image/png": "[encoded data removed]",
            "text/plain": [
              "<Figure size 432x288 with 1 Axes>"
            ]
          },
          "metadata": {
            "tags": []
          }
        }
      ]
    }
  ]
}